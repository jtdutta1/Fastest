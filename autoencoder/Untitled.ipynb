{
 "cells": [
  {
   "cell_type": "code",
   "execution_count": 1,
   "id": "47fe46e5",
   "metadata": {},
   "outputs": [],
   "source": [
    "import torch"
   ]
  },
  {
   "cell_type": "code",
   "execution_count": 2,
   "id": "00a73aad",
   "metadata": {},
   "outputs": [],
   "source": [
    "model = torch.load(\"../model.pth\")"
   ]
  },
  {
   "cell_type": "code",
   "execution_count": 3,
   "id": "37e5017e",
   "metadata": {},
   "outputs": [
    {
     "data": {
      "text/plain": [
       "EncoderDecoder(\n",
       "  (encoder): Encoder(\n",
       "    (hidden): Sequential(\n",
       "      (0): Linear(in_features=784, out_features=392, bias=True)\n",
       "      (1): Linear(in_features=392, out_features=196, bias=True)\n",
       "      (2): Linear(in_features=196, out_features=98, bias=True)\n",
       "      (3): Linear(in_features=98, out_features=49, bias=True)\n",
       "      (4): Linear(in_features=49, out_features=24, bias=True)\n",
       "    )\n",
       "    (output): Linear(in_features=24, out_features=10, bias=True)\n",
       "  )\n",
       "  (decoder): Decoder(\n",
       "    (layer1): Linear(in_features=10, out_features=24, bias=True)\n",
       "    (hidden): Sequential(\n",
       "      (0): Linear(in_features=24, out_features=49, bias=True)\n",
       "      (1): Linear(in_features=49, out_features=98, bias=True)\n",
       "      (2): Linear(in_features=98, out_features=196, bias=True)\n",
       "      (3): Linear(in_features=196, out_features=392, bias=True)\n",
       "      (4): Linear(in_features=392, out_features=784, bias=True)\n",
       "    )\n",
       "  )\n",
       ")"
      ]
     },
     "execution_count": 3,
     "metadata": {},
     "output_type": "execute_result"
    }
   ],
   "source": [
    "model"
   ]
  },
  {
   "cell_type": "code",
   "execution_count": 5,
   "id": "73e9614f",
   "metadata": {},
   "outputs": [
    {
     "data": {
      "text/plain": [
       "'EncoderDecoder(\\n  (encoder): Encoder(\\n    (hidden): Sequential(\\n      (0): Linear(in_features=784, out_features=392, bias=True)\\n      (1): Linear(in_features=392, out_features=196, bias=True)\\n      (2): Linear(in_features=196, out_features=98, bias=True)\\n      (3): Linear(in_features=98, out_features=49, bias=True)\\n      (4): Linear(in_features=49, out_features=24, bias=True)\\n    )\\n    (output): Linear(in_features=24, out_features=10, bias=True)\\n  )\\n  (decoder): Decoder(\\n    (layer1): Linear(in_features=10, out_features=24, bias=True)\\n    (hidden): Sequential(\\n      (0): Linear(in_features=24, out_features=49, bias=True)\\n      (1): Linear(in_features=49, out_features=98, bias=True)\\n      (2): Linear(in_features=98, out_features=196, bias=True)\\n      (3): Linear(in_features=196, out_features=392, bias=True)\\n      (4): Linear(in_features=392, out_features=784, bias=True)\\n    )\\n  )\\n)'"
      ]
     },
     "execution_count": 5,
     "metadata": {},
     "output_type": "execute_result"
    }
   ],
   "source": [
    "model"
   ]
  },
  {
   "cell_type": "code",
   "execution_count": null,
   "id": "ff668239",
   "metadata": {},
   "outputs": [],
   "source": []
  }
 ],
 "metadata": {
  "kernelspec": {
   "display_name": "Python 3 (ipykernel)",
   "language": "python",
   "name": "python3"
  },
  "language_info": {
   "codemirror_mode": {
    "name": "ipython",
    "version": 3
   },
   "file_extension": ".py",
   "mimetype": "text/x-python",
   "name": "python",
   "nbconvert_exporter": "python",
   "pygments_lexer": "ipython3",
   "version": "3.9.6"
  }
 },
 "nbformat": 4,
 "nbformat_minor": 5
}
